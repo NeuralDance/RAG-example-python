{
 "cells": [
  {
   "cell_type": "markdown",
   "id": "fa3fd711-8182-486b-ab1b-8366bc8cb316",
   "metadata": {},
   "source": [
    "# Agent Observability - Visualize Logged Data"
   ]
  },
  {
   "cell_type": "code",
   "execution_count": 20,
   "id": "2ced0ad5-13ec-4181-bb42-3c0dcaa1bec0",
   "metadata": {},
   "outputs": [],
   "source": [
    "from rag.observe.visualizer import LogVisualizer"
   ]
  },
  {
   "cell_type": "code",
   "execution_count": 23,
   "id": "c3708a2e-2921-499f-9db7-419eb4587fb0",
   "metadata": {},
   "outputs": [],
   "source": [
    "trace_tag = \"test6\" # Replace with actual tace tag\n",
    "log_file_path = \"rag/observe/logs/\"+trace_tag+\".json\"  \n",
    "visualizer = LogVisualizer(log_file_path)"
   ]
  },
  {
   "cell_type": "markdown",
   "id": "2c45a5be-306c-4251-b42a-1d2c893d9eea",
   "metadata": {},
   "source": [
    "<hr>"
   ]
  },
  {
   "cell_type": "markdown",
   "id": "82b02cde-949b-4888-bb28-409d77f0f8f6",
   "metadata": {},
   "source": [
    "#### Get Trace Metadata"
   ]
  },
  {
   "cell_type": "code",
   "execution_count": 24,
   "id": "c98b97a1-a7fb-4faa-9576-4f3412ed6263",
   "metadata": {},
   "outputs": [
    {
     "name": "stdout",
     "output_type": "stream",
     "text": [
      "Trace Tag: test6\n",
      "Trace ID: ee4f5a7a-acab-46c6-849d-763ddf1c8f0d\n",
      "Timestamp: 2024-07-18T21:59:48.696868\n",
      "Git Commit: 0b9644d3574aeb5da40c2ec2eaf542ef02e00175\n"
     ]
    }
   ],
   "source": [
    "trace_tag,trace_id,timestamp,git_commit = visualizer.get_trace_metadata()\n",
    "print(\"Trace Tag:\",trace_tag)\n",
    "print(\"Trace ID:\",trace_id)\n",
    "print(\"Timestamp:\",timestamp)\n",
    "print(\"Git Commit:\",git_commit)"
   ]
  },
  {
   "cell_type": "markdown",
   "id": "bf083850-f11a-4847-bd2d-0a8f2fe69d6b",
   "metadata": {},
   "source": [
    "#### Visualize User Query"
   ]
  },
  {
   "cell_type": "code",
   "execution_count": 25,
   "id": "84fc0ed8-36e7-4d3a-b6ed-1ed3dc360735",
   "metadata": {},
   "outputs": [
    {
     "name": "stdout",
     "output_type": "stream",
     "text": [
      "What are typical danger areas on the cobra?\n"
     ]
    }
   ],
   "source": [
    "# Vizualize user query \n",
    "user_query, user_query_embedding = visualizer.visualize_user_queries()\n",
    "print(user_query)"
   ]
  },
  {
   "cell_type": "markdown",
   "id": "8477f745-452f-4905-9a01-3cdc316f61d3",
   "metadata": {},
   "source": [
    "#### Visualize Keyword Search"
   ]
  },
  {
   "cell_type": "code",
   "execution_count": 26,
   "id": "cf289065-913b-4127-a828-3c71f5c54f75",
   "metadata": {},
   "outputs": [],
   "source": [
    "df = visualizer.visualize_keyword_search()\n",
    "#df"
   ]
  },
  {
   "cell_type": "markdown",
   "id": "593d32cf-0ea3-41d8-9ea8-c165166324ff",
   "metadata": {},
   "source": [
    "#### Visualize Semantic Search"
   ]
  },
  {
   "cell_type": "code",
   "execution_count": 27,
   "id": "1938ac90-9358-4ad7-8115-1f7fe64eea96",
   "metadata": {},
   "outputs": [],
   "source": [
    "df = visualizer.visualize_semantic_search()\n",
    "#df"
   ]
  },
  {
   "cell_type": "markdown",
   "id": "cafeab77-3420-48c1-b0e6-a77744a5546c",
   "metadata": {},
   "source": [
    "#### Visualize Rerank Results"
   ]
  },
  {
   "cell_type": "code",
   "execution_count": 28,
   "id": "c98a532d-e55f-4f8c-af50-9b532f95239c",
   "metadata": {},
   "outputs": [],
   "source": [
    "df = visualizer.visualize_rerank()\n",
    "#df"
   ]
  },
  {
   "cell_type": "markdown",
   "id": "577cda69-283d-45bb-89a1-dfb8dcd5ee3b",
   "metadata": {},
   "source": [
    "#### Visualize Semantic Search LLM Prompt"
   ]
  },
  {
   "cell_type": "code",
   "execution_count": 29,
   "id": "d9a9d726-89f9-4c40-a11a-e5ba7f6728e3",
   "metadata": {},
   "outputs": [
    {
     "name": "stdout",
     "output_type": "stream",
     "text": [
      "What are typical danger areas on the cobra?Answer your question based on the following information: For example, farmers can be:Farmers with higher education or training from atechnical collegeFarmers by experience (e.g. inherited farm,extensive practical knowledge)Contractors who work on behalf of farmersActivity example:Safety instruction of agricultural helpers2.1.2.1.4 Agricultural helperAgricultural helpers use agricultural machines onbehalf of the farmer. They are instructed in the useof the machine by the farmer, and work independentlyaccording to the farmer's work order.For example, agricultural helpers can be:Seasonal workers and laborersProspective farmers in trainingEmployees of the farmer (e.g.\n",
      "\n",
      "2.1.3.2 Danger areasDangers areas on the machineThe following basic dangers are encountered inthe danger areas:The implement and its work tools move duringoperation.Hydraulically raised machine parts can descendunnoticed and slowly.The tractor and implement can roll awayunintentionally.Materials or foreign objects can be ejected out ofor away from the implement.If the danger area is not observed, it can result inserious personal injury or death.Keep people out of the danger area of themachine.If people enter the danger area,immediately switch off the engines and drives.Before you work in the danger area of theimplement,secure the tractor and implement. This alsoapplies for quick checking work.\n",
      "\n",
      "Farmers can be e.g.:Farmers with higher education or training from atechnical collegeFarmers by experience (e.g. inherited farm,comprehensive practical knowledge)Contractors who work by order of farmersActivity example:Safety training for agricultural helpers2.1.2.1.4 Agricultural helpersAgricultural helpers use agricultural implements byorder of the farmer. They are instructed on the use ofthe implement by the farmer, and work independentlyaccording to the work assignment from the farmer.Agricultural helpers can be e.g.:Seasonal workers and labourersProspective farmers in trainingEmployees of the farmer (e.g.\n",
      "\n",
      "2.1.3.2 Danger areasDanger areas on the implementThe following significant hazards are present inthe danger areas:The implement and its work tools move inoperation.Hydraulically lifted implement parts can lowerunnoticed and slowly.The tractor and implement can roll unintentionally.Materials or foreign objects can be ejected out ofor away from the implement.Failure to comply with instructions concerning thedanger area can result in severe or fatal injury.Keep people out of the danger area of theimplement.If people enter the danger area,immediately switch off motors and drives.Before working in the danger area of theimplement,secure the tractor and implement.\n",
      "\n",
      "28.06.2024 | © AMAZONE 112\n",
      "\n",
      "MD078 MD082CMS-I-000079744.4.2Layout of the warning symbolsWarning symbols indicate danger areas on themachine and warn against residual dangers. In thesedanger areas, there are permanent or unexpecteddangers.A warning symbol consists of two fields:Field 1 shows the following:A pictogram depicting the danger area,surrounded by triangular safety symbolThe order numberField 2 shows a pictogram depicting how toavoid the danger.1 2CMS-I-00000416CMS-T -000141-D.14 | Product descriptionWarning symbols MG7478-EN-GB | G.1 | 28.06.2024 | © AMAZONE 28\n",
      "\n",
      "MG7478-EN-GB | G.1 | 28.06.2024 | © AMAZONE 5\n",
      "\n",
      "\n"
     ]
    }
   ],
   "source": [
    "prompt = visualizer.visualize_llm_prompt()\n",
    "print(prompt)"
   ]
  },
  {
   "cell_type": "markdown",
   "id": "d0d1f56f-6fb9-459d-8976-9a00970cff41",
   "metadata": {},
   "source": [
    "#### Vizualize final LLM response"
   ]
  },
  {
   "cell_type": "code",
   "execution_count": 30,
   "id": "dd2253a6-c9c3-420e-992d-61c642800aa9",
   "metadata": {},
   "outputs": [
    {
     "name": "stdout",
     "output_type": "stream",
     "text": [
      "Typical danger areas on the cobra or agricultural implement include:\n",
      "\n",
      "1. The implement and its work tools moving during operation.\n",
      "2. Hydraulically raised machine parts that can descend unnoticed and slowly.\n",
      "3. The tractor and implement rolling away unintentionally.\n",
      "4. Materials or foreign objects being ejected out of or away from the implement.\n",
      "\n",
      "It is important to keep people out of these danger areas. If someone enters the danger area, immediately switch off the engines and drives. Before working in the danger area of the implement, make sure to secure the tractor and implement properly to prevent accidents and injuries.\n"
     ]
    }
   ],
   "source": [
    "response = visualizer.visualize_final_llm_responses()\n",
    "print(response)"
   ]
  },
  {
   "cell_type": "code",
   "execution_count": null,
   "id": "2345332d-973b-4266-a8b8-a98de5ee761b",
   "metadata": {},
   "outputs": [],
   "source": []
  },
  {
   "cell_type": "code",
   "execution_count": null,
   "id": "eb4484fb-9f95-4215-85b7-efaa371d8d0b",
   "metadata": {},
   "outputs": [],
   "source": []
  }
 ],
 "metadata": {
  "kernelspec": {
   "display_name": "Python 3 (ipykernel)",
   "language": "python",
   "name": "python3"
  },
  "language_info": {
   "codemirror_mode": {
    "name": "ipython",
    "version": 3
   },
   "file_extension": ".py",
   "mimetype": "text/x-python",
   "name": "python",
   "nbconvert_exporter": "python",
   "pygments_lexer": "ipython3",
   "version": "3.12.4"
  }
 },
 "nbformat": 4,
 "nbformat_minor": 5
}
