{
 "cells": [
  {
   "cell_type": "markdown",
   "id": "fa3fd711-8182-486b-ab1b-8366bc8cb316",
   "metadata": {},
   "source": [
    "# Agent Observability - Visualize Logged Data"
   ]
  },
  {
   "cell_type": "code",
   "execution_count": 1,
   "id": "2ced0ad5-13ec-4181-bb42-3c0dcaa1bec0",
   "metadata": {},
   "outputs": [],
   "source": [
    "from rag.observe.visualizer import LogVisualizer"
   ]
  },
  {
   "cell_type": "code",
   "execution_count": 2,
   "id": "c3708a2e-2921-499f-9db7-419eb4587fb0",
   "metadata": {},
   "outputs": [],
   "source": [
    "trace_tag = \"Test1\" # Replace with actual tace tag\n",
    "log_file_path = \"rag/observe/logs/\"+trace_tag+\".json\"  \n",
    "visualizer = LogVisualizer(log_file_path)"
   ]
  },
  {
   "cell_type": "markdown",
   "id": "2c45a5be-306c-4251-b42a-1d2c893d9eea",
   "metadata": {},
   "source": [
    "<hr>"
   ]
  },
  {
   "cell_type": "markdown",
   "id": "bf083850-f11a-4847-bd2d-0a8f2fe69d6b",
   "metadata": {},
   "source": [
    "#### Visualize User Query"
   ]
  },
  {
   "cell_type": "code",
   "execution_count": 3,
   "id": "84fc0ed8-36e7-4d3a-b6ed-1ed3dc360735",
   "metadata": {},
   "outputs": [
    {
     "name": "stdout",
     "output_type": "stream",
     "text": [
      "What are typical sefaty routines for the Cobra Machine?\n"
     ]
    }
   ],
   "source": [
    "# Vizualize user query \n",
    "user_query, user_query_embedding = visualizer.visualize_user_queries()\n",
    "print(user_query)"
   ]
  },
  {
   "cell_type": "markdown",
   "id": "8477f745-452f-4905-9a01-3cdc316f61d3",
   "metadata": {},
   "source": [
    "#### Visualize Keyword Search"
   ]
  },
  {
   "cell_type": "code",
   "execution_count": 4,
   "id": "cf289065-913b-4127-a828-3c71f5c54f75",
   "metadata": {},
   "outputs": [],
   "source": [
    "df = visualizer.visualize_keyword_search()\n",
    "#df"
   ]
  },
  {
   "cell_type": "markdown",
   "id": "593d32cf-0ea3-41d8-9ea8-c165166324ff",
   "metadata": {},
   "source": [
    "#### Visualize Semantic Search"
   ]
  },
  {
   "cell_type": "code",
   "execution_count": 5,
   "id": "1938ac90-9358-4ad7-8115-1f7fe64eea96",
   "metadata": {},
   "outputs": [],
   "source": [
    "df = visualizer.visualize_semantic_search()\n",
    "#df"
   ]
  },
  {
   "cell_type": "markdown",
   "id": "cafeab77-3420-48c1-b0e6-a77744a5546c",
   "metadata": {},
   "source": [
    "#### Visualize Rerank Results"
   ]
  },
  {
   "cell_type": "code",
   "execution_count": 6,
   "id": "c98a532d-e55f-4f8c-af50-9b532f95239c",
   "metadata": {},
   "outputs": [],
   "source": [
    "df = visualizer.visualize_rerank()\n",
    "#df"
   ]
  },
  {
   "cell_type": "markdown",
   "id": "577cda69-283d-45bb-89a1-dfb8dcd5ee3b",
   "metadata": {},
   "source": [
    "#### Visualize Semantic Search LLM Prompt"
   ]
  },
  {
   "cell_type": "code",
   "execution_count": 7,
   "id": "d9a9d726-89f9-4c40-a11a-e5ba7f6728e3",
   "metadata": {},
   "outputs": [
    {
     "name": "stdout",
     "output_type": "stream",
     "text": [
      "What are typical sefaty routines for the Cobra Machine?Answer your question based on the following information: Farmers can be e.g.:Farmers with higher education or training from atechnical collegeFarmers by experience (e.g. inherited farm,comprehensive practical knowledge)Contractors who work by order of farmersActivity example:Safety training for agricultural helpers2.1.2.1.4 Agricultural helpersAgricultural helpers use agricultural implements byorder of the farmer. They are instructed on the use ofthe implement by the farmer, and work independentlyaccording to the work assignment from the farmer.Agricultural helpers can be e.g.:Seasonal workers and labourersProspective farmers in trainingEmployees of the farmer (e.g.\n",
      "\n",
      "If the implement or implement parts are not secured,there is a risk of injury due to crushing or cutting.Only park the implement on stable and level ground.Before depressurizing the hydraulic hose lines and disconnecting them from the tractor,bring the implement into working position.Protect people from direct contact with sharp-edged or protruding implement parts.CMS-T -00002325-B.1CMS-T -00002300-D.12 | Safety and responsibilitySafety routines MG6829-US-EN-II | C.1 | 03.04.2024 | © AMAZONE 19\n",
      "\n",
      "For example, farmers can be:Farmers with higher education or training from atechnical collegeFarmers by experience (e.g. inherited farm,extensive practical knowledge)Contractors who work on behalf of farmersActivity example:Safety instruction of agricultural helpers2.1.2.1.4 Agricultural helperAgricultural helpers use agricultural machines onbehalf of the farmer. They are instructed in the useof the machine by the farmer, and work independentlyaccording to the farmer's work order.For example, agricultural helpers can be:Seasonal workers and laborersProspective farmers in trainingEmployees of the farmer (e.g.\n",
      "\n",
      "If the implement and implement parts are not secured,there is a risk of personal injury due to crushing and cutting.Only park the implement on stable and level ground.Before you depressurise the hydraulic hose lines and disconnect them from the tractor,move the implement into working position.Protect people against direct contact with sharp-edged or protruding implement parts.CMS-T -00002325-B.1CMS-T -00002300-D.12 | Safety and responsibilitySafety routines MG7478-EN-GB | G.1 | 28.06.2024 | © AMAZONE 19\n",
      "\n",
      "| © AMAZONE 102\n",
      "\n",
      "Accidental activationof control elements can unintentionally trigger potentially dangerous functions.Use only the intended access aids.To ensure safe step and safe stance:Always keep step surfaces and platforms clean and in proper condition, so that safe step and safestance are ensured.When the implement is moving:Never climb onto or down from the implement.Climb up and down facing the implement.When climbing up and down, maintain 3-point contact with the access steps and handrails: Alwayskeep either two hands and one foot on the implement or two feet and one hand on the implement.When climbing up and down, never use the control elements as a hand grip.When climbing down, never jump off of the implement.2 | Safety and responsibilitySafety routines MG6829-US-EN-II | C.1 | 03.04.2024 | ©\n",
      "\n",
      "28.06.2024 | © AMAZONE 112\n",
      "\n",
      "\n"
     ]
    }
   ],
   "source": [
    "prompt = visualizer.visualize_llm_prompt()\n",
    "print(prompt)"
   ]
  },
  {
   "cell_type": "markdown",
   "id": "d0d1f56f-6fb9-459d-8976-9a00970cff41",
   "metadata": {},
   "source": [
    "#### Vizualize final LLM response"
   ]
  },
  {
   "cell_type": "code",
   "execution_count": 8,
   "id": "dd2253a6-c9c3-420e-992d-61c642800aa9",
   "metadata": {},
   "outputs": [
    {
     "name": "stdout",
     "output_type": "stream",
     "text": [
      "For safety routines with the Cobra Machine, follow these guidelines:\n",
      "\n",
      "1. Make sure the implement and implement parts are secured to avoid the risk of injury due to crushing or cutting.\n",
      "2. Only park the implement on stable and level ground.\n",
      "3. Before depressurizing the hydraulic hose lines and disconnecting them from the tractor, bring the implement into working position.\n",
      "4. Protect individuals from direct contact with sharp-edged or protruding implement parts.\n",
      "5. Avoid accidental activation of control elements that could trigger potentially dangerous functions by using only intended access aids.\n",
      "6. Maintain safe step and stance by keeping step surfaces and platforms clean and in proper condition.\n",
      "7. When the implement is moving, never climb onto or down from the implement. Always face the implement when climbing up and down.\n",
      "8. Maintain 3-point contact when climbing up and down the implement: always keep either two hands and one foot on the implement, or two feet and one hand on the implement.\n",
      "9. Never use the control elements as a hand grip when climbing up and down.\n",
      "10. Avoid jumping off of the implement when climbing down.\n",
      "\n",
      "These safety routines are essential to ensure the well-being of individuals operating the Cobra Machine and to prevent accidents or injuries.\n"
     ]
    }
   ],
   "source": [
    "response = visualizer.visualize_final_llm_responses()\n",
    "print(response)"
   ]
  }
 ],
 "metadata": {
  "kernelspec": {
   "display_name": "Python 3 (ipykernel)",
   "language": "python",
   "name": "python3"
  },
  "language_info": {
   "codemirror_mode": {
    "name": "ipython",
    "version": 3
   },
   "file_extension": ".py",
   "mimetype": "text/x-python",
   "name": "python",
   "nbconvert_exporter": "python",
   "pygments_lexer": "ipython3",
   "version": "3.12.4"
  }
 },
 "nbformat": 4,
 "nbformat_minor": 5
}
