{
 "cells": [
  {
   "cell_type": "markdown",
   "id": "fa3fd711-8182-486b-ab1b-8366bc8cb316",
   "metadata": {},
   "source": [
    "# Agent Observability - Visualize Logged Data"
   ]
  },
  {
   "cell_type": "code",
   "execution_count": 1,
   "id": "2ced0ad5-13ec-4181-bb42-3c0dcaa1bec0",
   "metadata": {},
   "outputs": [],
   "source": [
    "from rag.observe.visualizer import LogVisualizer"
   ]
  },
  {
   "cell_type": "code",
   "execution_count": 2,
   "id": "c3708a2e-2921-499f-9db7-419eb4587fb0",
   "metadata": {},
   "outputs": [],
   "source": [
    "trace_tag = \"test3\" # Replace with actual tace tag\n",
    "log_file_path = \"rag/observe/logs/\"+trace_tag+\".json\"  \n",
    "visualizer = LogVisualizer(log_file_path)"
   ]
  },
  {
   "cell_type": "markdown",
   "id": "2c45a5be-306c-4251-b42a-1d2c893d9eea",
   "metadata": {},
   "source": [
    "<hr>"
   ]
  },
  {
   "cell_type": "markdown",
   "id": "82b02cde-949b-4888-bb28-409d77f0f8f6",
   "metadata": {},
   "source": [
    "#### Get Trace Metadata"
   ]
  },
  {
   "cell_type": "code",
   "execution_count": 3,
   "id": "c98b97a1-a7fb-4faa-9576-4f3412ed6263",
   "metadata": {},
   "outputs": [
    {
     "name": "stdout",
     "output_type": "stream",
     "text": [
      "Trace Tag: test3\n",
      "Trace ID: dc669201-f28e-4773-b602-bca0202119a0\n",
      "Timestamp: 2024-07-18T22:29:25.175627\n",
      "Git Commit: bb88161e4095d37e10b85a7e1fa77d0ed2c71082\n"
     ]
    }
   ],
   "source": [
    "trace_tag,trace_id,timestamp,git_commit = visualizer.get_trace_metadata()\n",
    "print(\"Trace Tag:\",trace_tag)\n",
    "print(\"Trace ID:\",trace_id)\n",
    "print(\"Timestamp:\",timestamp)\n",
    "print(\"Git Commit:\",git_commit)"
   ]
  },
  {
   "cell_type": "markdown",
   "id": "bf083850-f11a-4847-bd2d-0a8f2fe69d6b",
   "metadata": {},
   "source": [
    "#### Visualize User Query"
   ]
  },
  {
   "cell_type": "code",
   "execution_count": 4,
   "id": "84fc0ed8-36e7-4d3a-b6ed-1ed3dc360735",
   "metadata": {},
   "outputs": [
    {
     "name": "stdout",
     "output_type": "stream",
     "text": [
      "Is there a danger for children when operating the Cobra?\n"
     ]
    }
   ],
   "source": [
    "# Vizualize user query \n",
    "user_query, user_query_embedding = visualizer.visualize_user_queries()\n",
    "print(user_query)"
   ]
  },
  {
   "cell_type": "markdown",
   "id": "8477f745-452f-4905-9a01-3cdc316f61d3",
   "metadata": {},
   "source": [
    "#### Visualize Keyword Search"
   ]
  },
  {
   "cell_type": "code",
   "execution_count": 5,
   "id": "cf289065-913b-4127-a828-3c71f5c54f75",
   "metadata": {},
   "outputs": [],
   "source": [
    "df = visualizer.visualize_keyword_search()\n",
    "#df"
   ]
  },
  {
   "cell_type": "markdown",
   "id": "593d32cf-0ea3-41d8-9ea8-c165166324ff",
   "metadata": {},
   "source": [
    "#### Visualize Semantic Search"
   ]
  },
  {
   "cell_type": "code",
   "execution_count": 6,
   "id": "1938ac90-9358-4ad7-8115-1f7fe64eea96",
   "metadata": {},
   "outputs": [],
   "source": [
    "df = visualizer.visualize_semantic_search()\n",
    "#df"
   ]
  },
  {
   "cell_type": "markdown",
   "id": "cafeab77-3420-48c1-b0e6-a77744a5546c",
   "metadata": {},
   "source": [
    "#### Visualize Rerank Results"
   ]
  },
  {
   "cell_type": "code",
   "execution_count": 7,
   "id": "c98a532d-e55f-4f8c-af50-9b532f95239c",
   "metadata": {},
   "outputs": [],
   "source": [
    "df = visualizer.visualize_rerank()\n",
    "#df"
   ]
  },
  {
   "cell_type": "markdown",
   "id": "577cda69-283d-45bb-89a1-dfb8dcd5ee3b",
   "metadata": {},
   "source": [
    "#### Visualize Semantic Search LLM Prompt"
   ]
  },
  {
   "cell_type": "code",
   "execution_count": 8,
   "id": "d9a9d726-89f9-4c40-a11a-e5ba7f6728e3",
   "metadata": {},
   "outputs": [
    {
     "name": "stdout",
     "output_type": "stream",
     "text": [
      "Is there a danger for children when operating the Cobra? Answer your question based on the following information: For example, farmers can be:Farmers with higher education or training from atechnical collegeFarmers by experience (e.g. inherited farm,extensive practical knowledge)Contractors who work on behalf of farmersActivity example:Safety instruction of agricultural helpers2.1.2.1.4 Agricultural helperAgricultural helpers use agricultural machines onbehalf of the farmer. They are instructed in the useof the machine by the farmer, and work independentlyaccording to the farmer's work order.For example, agricultural helpers can be:Seasonal workers and laborersProspective farmers in trainingEmployees of the farmer (e.g.\n",
      "\n",
      "2.1.2.3 Danger for childrenDanger for childrenChildren cannot assess dangerous situations and can behave unpredictably. As a result, children are at ahigher risk.Keep children away.When you drive out or actuate machine movements,make sure that there are no children in the danger area.2.1.2.4 Operational safety2.1.2.4.1 Perfect technical conditionOnly use properly prepared machinesWithout correct preparation according to this operating manual, operational safety of the machine is notensured. This can result in accidents and serious personal injury or even death.Prepare the machine according to this operating manual.Danger due to damage to the machineDamage to the machine can impede the operational safety of the machine and cause accidents.\n",
      "\n",
      "Farmers can be e.g.:Farmers with higher education or training from atechnical collegeFarmers by experience (e.g. inherited farm,comprehensive practical knowledge)Contractors who work by order of farmersActivity example:Safety training for agricultural helpers2.1.2.1.4 Agricultural helpersAgricultural helpers use agricultural implements byorder of the farmer. They are instructed on the use ofthe implement by the farmer, and work independentlyaccording to the work assignment from the farmer.Agricultural helpers can be e.g.:Seasonal workers and labourersProspective farmers in trainingEmployees of the farmer (e.g.\n",
      "\n",
      "2.1.2.3 Danger for childrenChildren in dangerChildren cannot assess dangerous situations and may behave unpredictably. As a result, children areparticularly at risk.Keep children at a safe distance.When you drive out or activate implement movements,ensure that there are no children in the danger area.2.1.2.4 Operational safety2.1.2.4.1 Perfect technical conditionOnly use properly prepared implementsOperational safety of the implement is only ensured with proper preparation as specified in this operatingmanual. This can result in accidents and persons can be severely injured or killed.Prepare the implement as specified in this operating manual.Danger due to implement damageImplement damage can impair the operational safety of the implement and cause accidents.\n",
      "\n",
      "28.06.2024 | © AMAZONE 112\n",
      "\n",
      "4.4.3Description of the warning symbolsMD 078Risk of crushing fingers or handsDisconnect the power supply from the implementbefore approaching the danger zone.Wait until all moving parts are at a standstillbefore reaching into the danger area.Make sure that there is nobody standing in thedanger area or close to the moving parts.CMS-I-000074MD 079Danger due to ejected materialMake sure that there is nobody standing in thedanger area or close to the moving parts.CMS-I-000076MD 082Risk of falling from tread surfaces and platformsDo not let anybody ride on the implement.Do not let anybody climb onto the drivingimplement.CMS-I-000081MD089Risk of crushing from the machine partsunintentionally loweringMake sure that there is nobody standing in thedanger area.CMS-I-00003027CMS-T -00009222-D.14 |\n",
      "\n",
      "MD078 MD082CMS-I-000079744.4.2Layout of the warning symbolsWarning symbols indicate danger areas on themachine and warn against residual dangers. In thesedanger areas, there are permanent or unexpecteddangers.A warning symbol consists of two fields:Field 1 shows the following:A pictogram depicting the danger area,surrounded by triangular safety symbolThe order numberField 2 shows a pictogram depicting how toavoid the danger.1 2CMS-I-00000416CMS-T -000141-D.14 | Product descriptionWarning symbols MG7478-EN-GB | G.1 | 28.06.2024 | © AMAZONE 28\n",
      "\n",
      "\n"
     ]
    }
   ],
   "source": [
    "prompt = visualizer.visualize_llm_prompt()\n",
    "print(prompt)"
   ]
  },
  {
   "cell_type": "markdown",
   "id": "d0d1f56f-6fb9-459d-8976-9a00970cff41",
   "metadata": {},
   "source": [
    "#### Vizualize final LLM response"
   ]
  },
  {
   "cell_type": "code",
   "execution_count": 9,
   "id": "dd2253a6-c9c3-420e-992d-61c642800aa9",
   "metadata": {},
   "outputs": [
    {
     "name": "stdout",
     "output_type": "stream",
     "text": [
      "Yes, there is a danger for children when operating the Cobra or other agricultural machinery. Children are at a higher risk because they may not be able to assess dangerous situations and can behave unpredictably. It is crucial to keep children away from the operating area when using machinery like the Cobra.\n",
      "\n",
      "Warnings such as the risk of crushing fingers or hands, danger due to ejected material, risk of falling from tread surfaces and platforms, and risk of crushing from machine parts unintentionally lowering are all important safety precautions that should be followed to prevent accidents and injuries, especially for children who may not fully understand the potential dangers.\n",
      "\n",
      "It is essential to ensure that there are no children in the danger area when operating agricultural machinery and to follow all safety instructions and precautions outlined in the operating manual to prevent accidents and keep everyone safe.\n"
     ]
    }
   ],
   "source": [
    "response = visualizer.visualize_final_llm_responses()\n",
    "print(response)"
   ]
  },
  {
   "cell_type": "code",
   "execution_count": null,
   "id": "2345332d-973b-4266-a8b8-a98de5ee761b",
   "metadata": {},
   "outputs": [],
   "source": []
  },
  {
   "cell_type": "code",
   "execution_count": null,
   "id": "eb4484fb-9f95-4215-85b7-efaa371d8d0b",
   "metadata": {},
   "outputs": [],
   "source": []
  }
 ],
 "metadata": {
  "kernelspec": {
   "display_name": "Python 3 (ipykernel)",
   "language": "python",
   "name": "python3"
  },
  "language_info": {
   "codemirror_mode": {
    "name": "ipython",
    "version": 3
   },
   "file_extension": ".py",
   "mimetype": "text/x-python",
   "name": "python",
   "nbconvert_exporter": "python",
   "pygments_lexer": "ipython3",
   "version": "3.12.4"
  }
 },
 "nbformat": 4,
 "nbformat_minor": 5
}
